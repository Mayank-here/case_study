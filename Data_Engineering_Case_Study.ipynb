{
  "cells": [
    {
      "cell_type": "code",
      "execution_count": 1,
      "metadata": {
        "id": "EvhzQ7CbPb1y"
      },
      "outputs": [],
      "source": [
        "# Check the version of available sprak here -> https://downloads.apache.org/spark/\n",
        "!apt-get install openjdk-8-jdk-headless -qq > /dev/null\n",
        "#!wget -q https://www-us.apache.org/dist/spark/spark-3.0.3/spark-3.0.3-bin-hadoop2.7.tgz\n",
        "!wget -q https://downloads.apache.org/spark/spark-3.0.3/spark-3.0.3-bin-hadoop2.7.tgz\n",
        "!tar xf spark-3.0.3-bin-hadoop2.7.tgz\n",
        "!pip install -q findspark\n",
        "import os\n",
        "os.environ[\"JAVA_HOME\"] = \"/usr/lib/jvm/java-8-openjdk-amd64\"\n",
        "os.environ[\"SPARK_HOME\"] = \"/content/spark-3.0.3-bin-hadoop2.7\"\n",
        "import findspark\n",
        "findspark.init()\n",
        "from pyspark.sql import SparkSession\n",
        "\n",
        "spark = SparkSession.builder\\\n",
        "        .master(\"local\")\\\n",
        "        .appName(\"Colab\")\\\n",
        "        .config('spark.ui.port', '4050')\\\n",
        "        .getOrCreate()"
      ]
    },
    {
      "cell_type": "markdown",
      "metadata": {
        "id": "f5-UxhIGicKe"
      },
      "source": [
        "Data Download"
      ]
    },
    {
      "cell_type": "code",
      "execution_count": 2,
      "metadata": {
        "id": "gC92hee8ie5F"
      },
      "outputs": [],
      "source": [
        "!wget -q https://s3-eu-west-1.amazonaws.com/csparkdata/ol_cdump.json -O /content/ol_cdump.json"
      ]
    },
    {
      "cell_type": "markdown",
      "metadata": {
        "id": "Suk15oU2kMsS"
      },
      "source": [
        "Loading The Data"
      ]
    },
    {
      "cell_type": "code",
      "execution_count": 3,
      "metadata": {
        "colab": {
          "base_uri": "https://localhost:8080/"
        },
        "id": "Pa7cHPqaqz9R",
        "outputId": "dd91ed29-9134-4f66-c0dc-1db0e50f7c3e"
      },
      "outputs": [
        {
          "output_type": "stream",
          "name": "stdout",
          "text": [
            "+---------------+--------------------------+----+----------+----------------------+-------------+------------+--------------+------+--------------------------------------------+----------+-----------+-------------------+------------+------------+------------+--------+------------------+--------------+----------+-----------+------+---------+------------+-----------+-------+-------+------------+---------------+------------------+------------------+--------------------------------------------+---------------+------------------+----+-----+--------+----+--------------------------------------------------------------------------------------------------------------------------------------------------------------------------------------------------------+---------------+-----+-----------+------------+---------------------------------------+----------------+-------------+------+-------------------+---------------+---------------+------------+--------------+----------------------------+------------+--------+------+--------------+--------------+-------------+--------------+------------+-------------+-------------------------------------------------------+-------------+-----------------+-----------------------------------------------------------------------------------------------------+------------+---------------+----------------+----+----+-------+------+----------+-----------+----------------------+\n",
            "|alternate_names|authors                   |bio |birth_date|by_statement          |contributions|contributors|copyright_date|covers|created                                     |death_date|description|dewey_decimal_class|dewey_number|download_url|edition_name|excerpts|first_publish_date|first_sentence|full_title|fuller_name|genres|ia_box_id|ia_loaded_id|identifiers|isbn_10|isbn_13|isbn_invalid|isbn_odd_length|key               |languages         |last_modified                               |latest_revision|lc_classifications|lccn|links|location|name|notes                                                                                                                                                                                                   |number_of_pages|ocaid|oclc_number|oclc_numbers|other_titles                           |pagination      |personal_name|photos|physical_dimensions|physical_format|publish_country|publish_date|publish_places|publishers                  |purchase_url|revision|series|source_records|subject_people|subject_place|subject_places|subject_time|subject_times|subjects                                               |subtitle     |table_of_contents|title                                                                                                |title_prefix|type           |uri_descriptions|uris|url |website|weight|work_title|work_titles|works                 |\n",
            "+---------------+--------------------------+----+----------+----------------------+-------------+------------+--------------+------+--------------------------------------------+----------+-----------+-------------------+------------+------------+------------+--------+------------------+--------------+----------+-----------+------+---------+------------+-----------+-------+-------+------------+---------------+------------------+------------------+--------------------------------------------+---------------+------------------+----+-----+--------+----+--------------------------------------------------------------------------------------------------------------------------------------------------------------------------------------------------------+---------------+-----+-----------+------------+---------------------------------------+----------------+-------------+------+-------------------+---------------+---------------+------------+--------------+----------------------------+------------+--------+------+--------------+--------------+-------------+--------------+------------+-------------+-------------------------------------------------------+-------------+-----------------+-----------------------------------------------------------------------------------------------------+------------+---------------+----------------+----+----+-------+------+----------+-----------+----------------------+\n",
            "|null           |[[, /authors/OL6535896A,]]|null|null      |by Lillian Rose Arnold|null         |null        |null          |null  |[/type/datetime, 2008-12-30T07:38:13.854568]|null      |null       |null               |null        |null        |null        |null    |null              |null          |null      |null       |null  |null     |null        |null       |null   |null   |null        |null           |/books/OL22783906M|[[/languages/eng]]|[/type/datetime, 2009-12-15T08:04:07.512219]|2              |null              |null|null |[\"NBuC\"]|null|{\"type\":\"/type/text\",\"value\":\"Microfilm of typescript. Ann Arbor, Mich. : University Microfilms, 1975. -- 1 reel ; 35 mm\\n\\nThesis--University of Georgia\\n\\nBibliography: leaves 147-161\"}             |161            |null |[3954579]  |null        |[Marking tools, Motivational treatment]|xi, 161 leaves  |null         |null  |null               |null           |gau            |1975        |[Athens]      |[University of Georgia]     |null        |2       |null  |null          |null          |null         |null          |null        |null         |[Creative thinking -- Testing, Educational psychology] |null         |null             |The effect of differentiated marking tools and motivational treatment on figural creativity          |null        |[/type/edition]|null            |null|null|null   |null  |null      |null       |[[/works/OL13681062W]]|\n",
            "|null           |[[, /authors/OL6535897A,]]|null|null      |by Walter Edward Stead|null         |null        |null          |null  |[/type/datetime, 2008-12-30T07:38:14.436633]|null      |null       |null               |null        |null        |null        |null    |null              |null          |null      |null       |null  |null     |null        |null       |null   |null   |null        |null           |/books/OL22783907M|[[/languages/eng]]|[/type/datetime, 2009-12-15T08:04:07.512219]|2              |null              |null|null |[\"NBuC\"]|null|{\"type\":\"/type/text\",\"value\":\"Vita\\n\\nMicrofilm of typescript. Ann Arbor, Mich. : University Microfilms, 1976. -- 1 reel ; 35 mm\\n\\nThesis--Louisiana State University\\n\\nBibliography: leaves 124-128\"}|164            |null |[3954635]  |null        |null                                   |ix, 164 leaves :|null         |null  |null               |null           |lau            |1976        |[Baton Rouge] |[Louisiana State University]|null        |2       |null  |null          |null          |null         |null          |null        |null         |[Problem solving, Group problem solving, Social groups]|a field study|null             |Comparison of the nominal grouping and sequenced brainstorming techniques of creative idea generation|null        |[/type/edition]|null            |null|null|null   |null  |null      |null       |[[/works/OL13681063W]]|\n",
            "+---------------+--------------------------+----+----------+----------------------+-------------+------------+--------------+------+--------------------------------------------+----------+-----------+-------------------+------------+------------+------------+--------+------------------+--------------+----------+-----------+------+---------+------------+-----------+-------+-------+------------+---------------+------------------+------------------+--------------------------------------------+---------------+------------------+----+-----+--------+----+--------------------------------------------------------------------------------------------------------------------------------------------------------------------------------------------------------+---------------+-----+-----------+------------+---------------------------------------+----------------+-------------+------+-------------------+---------------+---------------+------------+--------------+----------------------------+------------+--------+------+--------------+--------------+-------------+--------------+------------+-------------+-------------------------------------------------------+-------------+-----------------+-----------------------------------------------------------------------------------------------------+------------+---------------+----------------+----+----+-------+------+----------+-----------+----------------------+\n",
            "only showing top 2 rows\n",
            "\n"
          ]
        }
      ],
      "source": [
        "from pyspark.sql.functions import *\n",
        "\n",
        "df = spark.read.format('json').option('multiline','false').load('/content/ol_cdump.json')\n",
        "\n",
        "df.show(2,truncate=False)"
      ]
    },
    {
      "cell_type": "markdown",
      "metadata": {
        "id": "U8CboWyt8_2O"
      },
      "source": [
        "Cleansing Data"
      ]
    },
    {
      "cell_type": "code",
      "execution_count": 4,
      "metadata": {
        "id": "0YWnGjTf9DAm",
        "colab": {
          "base_uri": "https://localhost:8080/"
        },
        "outputId": "fbd0966e-276d-474e-8e13-203441f92cb7"
      },
      "outputs": [
        {
          "output_type": "stream",
          "name": "stdout",
          "text": [
            "+---------------+--------------------+----+----------+--------------------+--------------------+------------+--------------+------+--------------------+----------+-----------+-------------------+------------+------------+-------------+--------+------------------+--------------+----------+-----------+--------------------+---------+------------+-----------+-------+-------+------------+---------------+------------------+------------------+--------------------+---------------+------------------+----+-----+--------+----+--------------------+---------------+-----+-----------+------------+--------------------+--------------------+-------------+------+-------------------+---------------+---------------+------------+-------------------+--------------------+------------+--------+--------------------+--------------+--------------+-------------+--------------+------------+-------------+--------------------+--------------------+-----------------+--------------------+------------+---------------+----------------+----+----+-------+------+----------+-----------+--------------------+\n",
            "|alternate_names|             authors| bio|birth_date|        by_statement|       contributions|contributors|copyright_date|covers|             created|death_date|description|dewey_decimal_class|dewey_number|download_url| edition_name|excerpts|first_publish_date|first_sentence|full_title|fuller_name|              genres|ia_box_id|ia_loaded_id|identifiers|isbn_10|isbn_13|isbn_invalid|isbn_odd_length|               key|         languages|       last_modified|latest_revision|lc_classifications|lccn|links|location|name|               notes|number_of_pages|ocaid|oclc_number|oclc_numbers|        other_titles|          pagination|personal_name|photos|physical_dimensions|physical_format|publish_country|publish_date|     publish_places|          publishers|purchase_url|revision|              series|source_records|subject_people|subject_place|subject_places|subject_time|subject_times|            subjects|            subtitle|table_of_contents|               title|title_prefix|           type|uri_descriptions|uris| url|website|weight|work_title|work_titles|               works|\n",
            "+---------------+--------------------+----+----------+--------------------+--------------------+------------+--------------+------+--------------------+----------+-----------+-------------------+------------+------------+-------------+--------+------------------+--------------+----------+-----------+--------------------+---------+------------+-----------+-------+-------+------------+---------------+------------------+------------------+--------------------+---------------+------------------+----+-----+--------+----+--------------------+---------------+-----+-----------+------------+--------------------+--------------------+-------------+------+-------------------+---------------+---------------+------------+-------------------+--------------------+------------+--------+--------------------+--------------+--------------+-------------+--------------+------------+-------------+--------------------+--------------------+-----------------+--------------------+------------+---------------+----------------+----+----+-------+------+----------+-----------+--------------------+\n",
            "|           null|[[, /authors/OL65...|null|      null|by Lillian Rose A...|                null|        null|          null|  null|[/type/datetime, ...|      null|       null|               null|        null|        null|         null|    null|              null|          null|      null|       null|                null|     null|        null|       null|   null|   null|        null|           null|/books/OL22783906M|[[/languages/eng]]|[/type/datetime, ...|              2|              null|null| null|[\"NBuC\"]|null|{\"type\":\"/type/te...|            161| null|  [3954579]|        null|[Marking tools, M...|      xi, 161 leaves|         null|  null|               null|           null|            gau|        1975|           [Athens]|[University of Ge...|        null|       2|                null|          null|          null|         null|          null|        null|         null|[Creative thinkin...|                null|             null|The effect of dif...|        null|[/type/edition]|            null|null|null|   null|  null|      null|       null|[[/works/OL136810...|\n",
            "|           null|[[, /authors/OL65...|null|      null|by Walter Edward ...|                null|        null|          null|  null|[/type/datetime, ...|      null|       null|               null|        null|        null|         null|    null|              null|          null|      null|       null|                null|     null|        null|       null|   null|   null|        null|           null|/books/OL22783907M|[[/languages/eng]]|[/type/datetime, ...|              2|              null|null| null|[\"NBuC\"]|null|{\"type\":\"/type/te...|            164| null|  [3954635]|        null|                null|    ix, 164 leaves :|         null|  null|               null|           null|            lau|        1976|      [Baton Rouge]|[Louisiana State ...|        null|       2|                null|          null|          null|         null|          null|        null|         null|[Problem solving,...|       a field study|             null|Comparison of the...|        null|[/type/edition]|            null|null|null|   null|  null|      null|       null|[[/works/OL136810...|\n",
            "|           null|[[, /authors/OL65...|null|      null|by Raymond L. Kuh...|                null|        null|          null|  null|[/type/datetime, ...|      null|       null|               null|        null|        null|         null|    null|              null|          null|      null|       null|                null|     null|        null|       null|   null|   null|        null|           null|/books/OL22783908M|[[/languages/eng]]|[/type/datetime, ...|              2|              null|null| null|[\"NBuC\"]|null|{\"type\":\"/type/te...|            262| null|  [3955196]|        null|                null|        vi, 262 p. :|         null|  null|               null|           null|            gau|        1977|   [Loganville, Ga]|   [Institute Press]|        null|       2|                null|          null|          null|         null|          null|        null|         null|[Industrial accid...|investigative met...|             null|Professional acci...|        null|[/type/edition]|            null|null|null|   null|  null|      null|       null|[[/works/OL136810...|\n",
            "|           null|[[, /authors/OL59...|null|      null|a cura di Sergio ...|                null|        null|          null|  null|[/type/datetime, ...|      null|       null|               null|        null|        null|         null|    null|              null|          null|      null|       null|                null|     null|        null|       null|   null|   null|        null|           null|/books/OL22783909M|[[/languages/ita]]|[/type/datetime, ...|              2|              null|null| null|[\"NBuC\"]|null|{\"type\":\"/type/te...|            310| null|  [3957350]|        null|                null|            310 p. ;|         null|  null|               null|           null|            it |        1964|           [Napoli]|[Edizioni Scienti...|        null|       2|[Collana di lette...|          null|          null|         null|          null|        null|         null|[English poetry -...|                null|             null|I chauceriani sco...|        null|[/type/edition]|            null|null|null|   null|  null|      null|       null|[[/works/OL129832...|\n",
            "|           null|[[, /authors/OL13...|null|      null|Francesco de Sanc...| [Romagnoli, Sergio]|        null|          null|  null|[/type/datetime, ...|      null|       null|               null|        null|        null|         null|    null|              null|          null|      null|       null|                null|     null|        null|       null|   null|   null|        null|           null|/books/OL22783911M|[[/languages/ita]]|[/type/datetime, ...|              2|              null|null| null|[\"NBuC\"]|null|                null|            145| null|  [3957370]|        null|                null|            145 p. ;|         null|  null|               null|           null|            it |        1955|           [Padova]|  [Liviana Editrice]|        null|       2|[Collana di testi...|          null|          null|         null|          null|        null|         null|[Petrarca, France...|     e altri scritti|             null|Lezioni zurighesi...|        null|[/type/edition]|            null|null|null|   null|  null|      null|       null|[[/works/OL133042...|\n",
            "|           null|[[, /authors/OL65...|null|      null|   E. Junceda Avello|                null|        null|          null|  null|[/type/datetime, ...|      null|       null|               null|        null|        null|         null|    null|              null|          null|      null|       null|[Early works to 1...|     null|        null|       null|   null|   null|        null|           null|/books/OL22783912M|[[/languages/spa]]|[/type/datetime, ...|              2|              null|null| null|[\"NBuC\"]|null|{\"type\":\"/type/te...|             73| null|  [3957374]|        null|                null|73 p., [6] leaves...|         null|  null|               null|           null|            sp |        1964|           [Oviedo]|[Instituto de Est...|        null|       2|                null|          null|          null|         null|          null|        null|         null|[Feijóo y Montene...|                null|             null|El saber ginecolo...|        null|[/type/edition]|            null|null|null|   null|  null|      null|       null|[[/works/OL136810...|\n",
            "|           null|[[, /authors/OL13...|null|      null|by E. J. H. Green...|[Faucher, Manoël,...|        null|          null|  null|[/type/datetime, ...|      null|       null|               null|        null|        null|Integrated ed|    null|              null|          null|      null|       null|                null|     null|        null|       null|   null|   null|        null|           null|/books/OL22783914M|[[/languages/eng]]|[/type/datetime, ...|              2|              null|null| null|[\"NBuC\"]|null|{\"type\":\"/type/te...|            256| null|  [3957402]|        null|                null|     xviii, 256 p. :|         null|  null|               null|           null|            fr |        1966|[Toronto, New York]|[Macmillan, St. M...|        null|       2|                null|          null|          null|         null|          null|        null|         null|[French language ...|a comprehensive c...|             null|       Reflex French|        null|[/type/edition]|            null|null|null|   null|  null|      null|       null|[[/works/OL131474...|\n",
            "|           null|[[, /authors/OL65...|null|      null| by Michael B. Leach|                null|        null|          null|  null|[/type/datetime, ...|      null|       null|               null|        null|        null|         null|    null|              null|          null|      null|       null|                null|     null|        null|       null|   null|   null|        null|           null|/books/OL22783915M|[[/languages/eng]]|[/type/datetime, ...|              2|              null|null| null|[\"NBuC\"]|null|{\"type\":\"/type/te...|            170| null|  [3957422]|        null|                null|     xii, 170 leaves|         null|  null|               null|           null|            ohu|        1976|  [Cleveland, Ohio]|[Case Western Res...|        null|       2|                null|          null|          null|         null|          null|        null|         null|[Creative ability...|                null|             null|Some aspects of t...|        null|[/type/edition]|            null|null|null|   null|  null|      null|       null|[[/works/OL136810...|\n",
            "|           null|[[, /authors/OL65...|null|      null| by John T. Matthews|                null|        null|          null|  null|[/type/datetime, ...|      null|       null|               null|        null|        null|         null|    null|              null|          null|      null|       null|                null|     null|        null|       null|   null|   null|        null|           null|/books/OL22783916M|[[/languages/eng]]|[/type/datetime, ...|              2|              null|null| null|[\"NBuC\"]|null|{\"type\":\"/type/te...|            403| null|  [3957478]|        null|                null|     [5], 403 leaves|         null|  null|               null|           null|            mdu|        1976|    [Baltimore, Md]|[Johns Hopkins Un...|        null|       2|                null|          null|          null|         null|          null|        null|         null|[Faulkner, Willia...|                null|             null|Creative response...|        null|[/type/edition]|            null|null|null|   null|  null|      null|       null|[[/works/OL136810...|\n",
            "|           null|[[, /authors/OL65...|null|      null|by John Gordon Ne...|                null|        null|          null|  null|[/type/datetime, ...|      null|       null|               null|        null|        null|         null|    null|              null|          null|      null|       null|                null|     null|        null|       null|   null|   null|        null|           null|/books/OL22783917M|[[/languages/eng]]|[/type/datetime, ...|              2|              null|null| null|[\"NBuC\"]|null|{\"type\":\"/type/te...|             84| null|  [3957555]|        null|                null|      v, 84 leaves :|         null|  null|               null|           null|            wiu|        1976|          [Madison]|[University of Wi...|        null|       2|                null|          null|          null|         null|          null|        null|         null|[Behaviorism (Psy...|    test of a theory|             null|Creativity and de...|        null|[/type/edition]|            null|null|null|   null|  null|      null|       null|[[/works/OL136810...|\n",
            "+---------------+--------------------+----+----------+--------------------+--------------------+------------+--------------+------+--------------------+----------+-----------+-------------------+------------+------------+-------------+--------+------------------+--------------+----------+-----------+--------------------+---------+------------+-----------+-------+-------+------------+---------------+------------------+------------------+--------------------+---------------+------------------+----+-----+--------+----+--------------------+---------------+-----+-----------+------------+--------------------+--------------------+-------------+------+-------------------+---------------+---------------+------------+-------------------+--------------------+------------+--------+--------------------+--------------+--------------+-------------+--------------+------------+-------------+--------------------+--------------------+-----------------+--------------------+------------+---------------+----------------+----+----+-------+------+----------+-----------+--------------------+\n",
            "only showing top 10 rows\n",
            "\n"
          ]
        }
      ],
      "source": [
        "# Publish Date Greater than 1950, Title cannot be null or empty and authors cannot be null\n",
        "# PUblish Date cannot be greater than current Year\n",
        "df = df.where(col('publish_date')>1950).where(col('number_of_pages')>20).where(\"title is not null and title !='' and authors is not null\")\n",
        "df.show(10)"
      ]
    },
    {
      "cell_type": "code",
      "source": [
        "df.count()"
      ],
      "metadata": {
        "colab": {
          "base_uri": "https://localhost:8080/"
        },
        "id": "APGoYbKkUeQS",
        "outputId": "e8fdff3e-1270-4f42-d59f-c927b19d141e"
      },
      "execution_count": 5,
      "outputs": [
        {
          "output_type": "execute_result",
          "data": {
            "text/plain": [
              "75354"
            ]
          },
          "metadata": {},
          "execution_count": 5
        }
      ]
    },
    {
      "cell_type": "markdown",
      "source": [
        "Select Harry Potter Books"
      ],
      "metadata": {
        "id": "jRnCa9c8dVWd"
      }
    },
    {
      "cell_type": "code",
      "source": [
        "# For selecting, we will utilize the select and where function\n",
        "df.where(upper(col(\"title\")).like(\"%HARRY POTTER%\")).select(\"title\").show(10, truncate = False)"
      ],
      "metadata": {
        "colab": {
          "base_uri": "https://localhost:8080/"
        },
        "id": "idPGeqAAdYDK",
        "outputId": "a50f955a-6449-47d4-f893-d54a77422863"
      },
      "execution_count": 6,
      "outputs": [
        {
          "output_type": "stream",
          "name": "stdout",
          "text": [
            "+----------------------------------------+\n",
            "|title                                   |\n",
            "+----------------------------------------+\n",
            "|Harry Potter and the philosopher's stone|\n",
            "|Harry Potter y la piedra filosofal      |\n",
            "+----------------------------------------+\n",
            "\n"
          ]
        }
      ]
    },
    {
      "cell_type": "markdown",
      "source": [
        "Book With Most Pages"
      ],
      "metadata": {
        "id": "X-Ts_9t5e9k0"
      }
    },
    {
      "cell_type": "code",
      "source": [
        "# For selecting book with maximum pages, we will utilize group by, max and sort \n",
        "max_page = df.groupBy().max(\"number_of_pages\").select(col(\"max(number_of_pages)\").alias(\"number_of_page\"))\n",
        "joinExpression = df[\"number_of_pages\"] == max_page[\"number_of_page\"]\n",
        "\n",
        "df.join(max_page,joinExpression,\"inner\").select(\"*\").show(5)\n",
        "\n",
        "#df.where(\"number_of_pages=48418\").select(\"*\").show()"
      ],
      "metadata": {
        "colab": {
          "base_uri": "https://localhost:8080/"
        },
        "id": "TABcWuG_fA0V",
        "outputId": "615e37b4-13b6-4988-f0a3-bb38ce80ff72"
      },
      "execution_count": 7,
      "outputs": [
        {
          "output_type": "stream",
          "name": "stdout",
          "text": [
            "+---------------+--------------------+----+----------+--------------------+-------------+------------+--------------+------+--------------------+----------+-----------+-------------------+------------+------------+--------------+--------+------------------+--------------+----------+-----------+------+---------+------------+-----------+------------+---------------+------------+---------------+------------------+------------------+--------------------+---------------+-------------------+------------+-----+--------+----+--------------------+---------------+-----+-----------+------------+------------+--------------+-------------+------+-------------------+---------------+---------------+------------+--------------+--------------------+------------+--------+------+--------------+--------------+-------------+--------------+------------+-------------+--------------------+--------+-----------------+--------------------+------------+---------------+----------------+----+----+-------+------+----------+-----------+--------------------+--------------+\n",
            "|alternate_names|             authors| bio|birth_date|        by_statement|contributions|contributors|copyright_date|covers|             created|death_date|description|dewey_decimal_class|dewey_number|download_url|  edition_name|excerpts|first_publish_date|first_sentence|full_title|fuller_name|genres|ia_box_id|ia_loaded_id|identifiers|     isbn_10|        isbn_13|isbn_invalid|isbn_odd_length|               key|         languages|       last_modified|latest_revision| lc_classifications|        lccn|links|location|name|               notes|number_of_pages|ocaid|oclc_number|oclc_numbers|other_titles|    pagination|personal_name|photos|physical_dimensions|physical_format|publish_country|publish_date|publish_places|          publishers|purchase_url|revision|series|source_records|subject_people|subject_place|subject_places|subject_time|subject_times|            subjects|subtitle|table_of_contents|               title|title_prefix|           type|uri_descriptions|uris| url|website|weight|work_title|work_titles|               works|number_of_page|\n",
            "+---------------+--------------------+----+----------+--------------------+-------------+------------+--------------+------+--------------------+----------+-----------+-------------------+------------+------------+--------------+--------+------------------+--------------+----------+-----------+------+---------+------------+-----------+------------+---------------+------------+---------------+------------------+------------------+--------------------+---------------+-------------------+------------+-----+--------+----+--------------------+---------------+-----+-----------+------------+------------+--------------+-------------+------+-------------------+---------------+---------------+------------+--------------+--------------------+------------+--------+------+--------------+--------------+-------------+--------------+------------+-------------+--------------------+--------+-----------------+--------------------+------------+---------------+----------------+----+----+-------+------+----------+-----------+--------------------+--------------+\n",
            "|           null|[[, /authors/OL55...|null|      null|Nishizawa Yasuhik...|         null|        null|          null|  null|[/type/datetime, ...|      null|       null|               null|        null|        null|880-03 Shohan.|    null|              null|          null|      null|       null|  null|     null|        null|       null|[4815805806]|[9784815805807]|        null|           null|/books/OL22855337M|[[/languages/jpn]]|[/type/datetime, ...|              2|[NA1555 .N575 2008]|[2008543302]| null|    null|null|{\"type\":\"/type/te...|          48418| null|[216939675]|        null|        null|x, 484,18 p. :|         null|  null|               null|           null|            ja |        2008|  [Nagoya-shi]|[Nagoya Daigaku S...|        null|       2|  null|          null|          null|         null|          null|        null|         null|[Architecture -- ...|    null|             null|Nihon shokuminchi...|        null|[/type/edition]|            null|null|null|   null|  null|      null|       null|[[/works/OL124686...|         48418|\n",
            "+---------------+--------------------+----+----------+--------------------+-------------+------------+--------------+------+--------------------+----------+-----------+-------------------+------------+------------+--------------+--------+------------------+--------------+----------+-----------+------+---------+------------+-----------+------------+---------------+------------+---------------+------------------+------------------+--------------------+---------------+-------------------+------------+-----+--------+----+--------------------+---------------+-----+-----------+------------+------------+--------------+-------------+------+-------------------+---------------+---------------+------------+--------------+--------------------+------------+--------+------+--------------+--------------+-------------+--------------+------------+-------------+--------------------+--------+-----------------+--------------------+------------+---------------+----------------+----+----+-------+------+----------+-----------+--------------------+--------------+\n",
            "\n"
          ]
        }
      ]
    },
    {
      "cell_type": "markdown",
      "source": [
        "Top 5 Authors"
      ],
      "metadata": {
        "id": "61WFkqZOQtNC"
      }
    },
    {
      "cell_type": "code",
      "source": [
        "#df.where(\"authors[1] is not null\").selectExpr(\"authors\").show(10, truncate = False)\n",
        "df.selectExpr(\"authors[0] as authors\").groupBy(\"authors\").count().orderBy(col(\"count\").desc()).limit(5).show(truncate = False)"
      ],
      "metadata": {
        "colab": {
          "base_uri": "https://localhost:8080/"
        },
        "id": "6AYQAiZXQwD9",
        "outputId": "fc609363-c918-447f-8a6a-ecf5fd6eaf01"
      },
      "execution_count": 8,
      "outputs": [
        {
          "output_type": "stream",
          "name": "stdout",
          "text": [
            "+------------------------+-----+\n",
            "|authors                 |count|\n",
            "+------------------------+-----+\n",
            "|[, /authors/OL1224818A,]|236  |\n",
            "|[, /authors/OL4283462A,]|116  |\n",
            "|[, /authors/OL785848A,] |106  |\n",
            "|[, /authors/OL1926829A,]|80   |\n",
            "|[, /authors/OL883775A,] |75   |\n",
            "+------------------------+-----+\n",
            "\n"
          ]
        }
      ]
    },
    {
      "cell_type": "markdown",
      "source": [
        "Top 5 Genres"
      ],
      "metadata": {
        "id": "Qmc6YChMYKVS"
      }
    },
    {
      "cell_type": "code",
      "source": [
        "df.where(\"genres is not null\").groupBy(\"genres\").count().orderBy(col(\"count\").desc()).limit(5).show(10, truncate = False)"
      ],
      "metadata": {
        "colab": {
          "base_uri": "https://localhost:8080/"
        },
        "id": "ebIpexjwZ-aM",
        "outputId": "0ede189b-1e22-4136-da51-93facdfe321f"
      },
      "execution_count": 9,
      "outputs": [
        {
          "output_type": "stream",
          "name": "stdout",
          "text": [
            "+----------------------+-----+\n",
            "|genres                |count|\n",
            "+----------------------+-----+\n",
            "|[Fiction.]            |2824 |\n",
            "|[Biography.]          |2038 |\n",
            "|[Juvenile literature.]|1145 |\n",
            "|[Exhibitions.]        |774  |\n",
            "|[Guidebooks.]         |424  |\n",
            "+----------------------+-----+\n",
            "\n"
          ]
        }
      ]
    },
    {
      "cell_type": "markdown",
      "source": [
        "Avg Number Of Pages"
      ],
      "metadata": {
        "id": "1B2gpOSzHQFL"
      }
    },
    {
      "cell_type": "code",
      "source": [
        "df.groupBy().avg(\"number_of_pages\").show()"
      ],
      "metadata": {
        "id": "lc_L7xDqHTYy"
      },
      "execution_count": null,
      "outputs": []
    },
    {
      "cell_type": "markdown",
      "source": [
        "Number of Authors per publish year"
      ],
      "metadata": {
        "id": "O9CnXF-EHh5G"
      }
    },
    {
      "cell_type": "code",
      "source": [
        "df.selectExpr(\"authors[0] as authors\",\"publish_date\").groupBy(\"publish_date\").agg(countDistinct(\"authors\")).show(10)"
      ],
      "metadata": {
        "id": "ngiJ4610HgQv"
      },
      "execution_count": null,
      "outputs": []
    }
  ],
  "metadata": {
    "colab": {
      "name": "Data_Engineering_Case_Study.ipynb",
      "provenance": [],
      "collapsed_sections": []
    },
    "kernelspec": {
      "display_name": "Python 3",
      "name": "python3"
    },
    "language_info": {
      "name": "python"
    }
  },
  "nbformat": 4,
  "nbformat_minor": 0
}